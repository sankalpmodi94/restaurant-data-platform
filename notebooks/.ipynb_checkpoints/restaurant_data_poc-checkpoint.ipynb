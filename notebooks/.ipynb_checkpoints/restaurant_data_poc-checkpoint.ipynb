{
 "cells": [
  {
   "cell_type": "code",
   "execution_count": null,
   "id": "0642ba23",
   "metadata": {
    "vscode": {
     "languageId": "plaintext"
    }
   },
   "outputs": [],
   "source": [
    "# Import required libraries\n",
    "import pandas as pd\n",
    "import duckdb\n",
    "import os\n",
    "from datetime import datetime\n",
    "\n",
    "print(\"✅ Libraries imported successfully!\")\n",
    "print(f\"📁 Current working directory: {os.getcwd()}\")\n",
    "print(f\"📂 Files in data directory: {os.listdir('../data')}\")\n",
    "print(\"\\n�� Ready to load data!\")"
   ]
  },
  {
   "cell_type": "code",
   "execution_count": null,
   "id": "24e362e8",
   "metadata": {
    "vscode": {
     "languageId": "plaintext"
    }
   },
   "outputs": [],
   "source": []
  }
 ],
 "metadata": {
  "language_info": {
   "name": "python"
  }
 },
 "nbformat": 4,
 "nbformat_minor": 5
}
