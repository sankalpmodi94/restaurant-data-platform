{
 "cells": [
  {
   "cell_type": "code",
   "execution_count": 1,
   "id": "0642ba23",
   "metadata": {},
   "outputs": [
    {
     "name": "stdout",
     "output_type": "stream",
     "text": [
      "✅ Libraries imported successfully!\n",
      "📁 Current working directory: /home/jovyan/work\n",
      "📂 Files in data directory: ['restaurant.duckdb', '.ipynb_checkpoints', 'SoakPrep.csv']\n",
      "\n",
      "�� Ready to load data!\n"
     ]
    }
   ],
   "source": [
    "# Import required libraries\n",
    "import pandas as pd\n",
    "import duckdb\n",
    "import os\n",
    "from datetime import datetime\n",
    "\n",
    "print(\"✅ Libraries imported successfully!\")\n",
    "print(f\"📁 Current working directory: {os.getcwd()}\")\n",
    "print(f\"📂 Files in data directory: {os.listdir('../data')}\")\n",
    "print(\"\\n�� Ready to load data!\")"
   ]
  },
  {
   "cell_type": "code",
   "execution_count": 2,
   "id": "24e362e8",
   "metadata": {},
   "outputs": [
    {
     "name": "stdout",
     "output_type": "stream",
     "text": [
      "📊 Data shape: (214, 7)\n",
      "📋 Columns: ['Timestamp', 'User', 'Date', 'Time', 'Shift', 'Chhola Soak (KG)', 'Dal Soak (KG)']\n",
      "\n",
      "📝 First 5 rows:\n",
      "            Timestamp   User       Date         Time      Shift  \\\n",
      "0  1/31/2025 14:05:07  Mudit  30/1/2025  11:30:00 pm      Night   \n",
      "1  1/31/2025 14:05:33  Mudit  31/1/2025   1:00:00 pm  Afternoon   \n",
      "2  1/31/2025 17:12:01  Mudit  31/1/2025   5:00:00 pm  Afternoon   \n",
      "3  1/31/2025 20:10:59   Ayan  31/1/2025   9:00:00 am      Night   \n",
      "4   2/1/2025 12:07:59   Ayan   1/2/2025          NaN  Afternoon   \n",
      "\n",
      "   Chhola Soak (KG)  Dal Soak (KG)  \n",
      "0              12.0            8.0  \n",
      "1               4.0            0.0  \n",
      "2               2.0            0.0  \n",
      "3              12.0            6.0  \n",
      "4               5.0            0.0  \n",
      "\n",
      "🧹 After cleaning, data shape: (213, 7)\n",
      "�� Removed 1 empty rows\n"
     ]
    }
   ],
   "source": [
    "# Load the CSV data\n",
    "csv_path = '../data/SoakPrep.csv'\n",
    "df = pd.read_csv(csv_path)\n",
    "\n",
    "print(f\"📊 Data shape: {df.shape}\")\n",
    "print(f\"📋 Columns: {list(df.columns)}\")\n",
    "print(\"\\n📝 First 5 rows:\")\n",
    "print(df.head())\n",
    "\n",
    "# Clean the data - remove empty rows\n",
    "df_clean = df.dropna(subset=['Timestamp'])\n",
    "print(f\"\\n🧹 After cleaning, data shape: {df_clean.shape}\")\n",
    "print(f\"�� Removed {len(df) - len(df_clean)} empty rows\")"
   ]
  },
  {
   "cell_type": "code",
   "execution_count": 3,
   "id": "07af3313",
   "metadata": {},
   "outputs": [
    {
     "name": "stdout",
     "output_type": "stream",
     "text": [
      "🔗 Connected to DuckDB: ../data/restaurant.duckdb\n",
      "✅ Data loaded into DuckDB successfully!\n",
      "📊 Total records in database: 213\n",
      "\n",
      "📋 Table schema:\n",
      "  Timestamp: VARCHAR\n",
      "  User: VARCHAR\n",
      "  Date: VARCHAR\n",
      "  Time: VARCHAR\n",
      "  Shift: VARCHAR\n",
      "  Chhola Soak (KG): DOUBLE\n",
      "  Dal Soak (KG): DOUBLE\n"
     ]
    }
   ],
   "source": [
    "# Connect to DuckDB and load data\n",
    "db_path = '../data/restaurant.duckdb'\n",
    "conn = duckdb.connect(db_path)\n",
    "\n",
    "print(f\"🔗 Connected to DuckDB: {db_path}\")\n",
    "\n",
    "# Create table from pandas DataFrame\n",
    "conn.execute(\"DROP TABLE IF EXISTS soak_prep\")\n",
    "conn.execute(\"CREATE TABLE soak_prep AS SELECT * FROM df_clean\")\n",
    "\n",
    "print(\"✅ Data loaded into DuckDB successfully!\")\n",
    "\n",
    "# Verify data was loaded\n",
    "result = conn.execute(\"SELECT COUNT(*) as total_records FROM soak_prep\").fetchall()\n",
    "print(f\"📊 Total records in database: {result[0][0]}\")\n",
    "\n",
    "# Show table schema\n",
    "print(\"\\n📋 Table schema:\")\n",
    "schema = conn.execute(\"DESCRIBE soak_prep\").fetchall()\n",
    "for col in schema:\n",
    "    print(f\"  {col[0]}: {col[1]}\")"
   ]
  },
  {
   "cell_type": "code",
   "execution_count": 4,
   "id": "1ef86870",
   "metadata": {},
   "outputs": [
    {
     "name": "stdout",
     "output_type": "stream",
     "text": [
      "�� === BASIC ANALYSIS ===\n",
      "\n",
      "👥 1. Total soak quantities by user:\n",
      "  Ayan: 1189.5kg chhola, 448.59999999999997kg dal (116 entries)\n",
      "  Naresh : 448.7kg chhola, 116.5kg dal (36 entries)\n",
      "  Munchun Kumar : 293.5kg chhola, 86.0kg dal (22 entries)\n",
      "  Manchun kumar : 132.0kg chhola, 39.5kg dal (13 entries)\n",
      "  Manchun kumar: 109.0kg chhola, 33.0kg dal (7 entries)\n",
      "  Ayan : 41.0kg chhola, 19.0kg dal (4 entries)\n",
      "  Akash: 34.0kg chhola, 12.0kg dal (4 entries)\n",
      "  ayan: 28.0kg chhola, 12.0kg dal (2 entries)\n",
      "  Manchu kumar: 26.0kg chhola, 8.0kg dal (2 entries)\n",
      "  Mudit: 18.0kg chhola, 8.0kg dal (3 entries)\n",
      "  Munchun Kumar: 14.0kg chhola, 5.0kg dal (1 entries)\n",
      "  12: 12.0kg chhola, 5.0kg dal (1 entries)\n",
      "  naresh: 9.5kg chhola, 3.5kg dal (1 entries)\n",
      "  Naresh: 4.0kg chhola, 0.0kg dal (1 entries)\n",
      "\n",
      "📅 2. Daily totals (last 10 days):\n",
      "  9/7/2025: 13.0kg chhola, 4.0kg dal\n",
      "  9/6/2025: 12.0kg chhola, 4.0kg dal\n",
      "  9/4/2025: 14.0kg chhola, 5.0kg dal\n",
      "  9/3/2025: 7.0kg chhola, 3.0kg dal\n",
      "  9/2/2025: 12.0kg chhola, 6.0kg dal\n",
      "  8/7/2025: 16.0kg chhola, 3.5kg dal\n",
      "  8/4/2025: 12.0kg chhola, 5.0kg dal\n",
      "  8/3/2025: 25.0kg chhola, 7.0kg dal\n",
      "  8/2/2025: 24.0kg chhola, 7.0kg dal\n",
      "  7/7/2025: 11.0kg chhola, 3.5kg dal\n"
     ]
    }
   ],
   "source": [
    "print(\"�� === BASIC ANALYSIS ===\\n\")\n",
    "\n",
    "# 1. Total soak quantities by user\n",
    "print(\"👥 1. Total soak quantities by user:\")\n",
    "user_totals = conn.execute(\"\"\"\n",
    "    SELECT \n",
    "        User,\n",
    "        SUM(\"Chhola Soak (KG)\") as total_chhola,\n",
    "        SUM(\"Dal Soak (KG)\") as total_dal,\n",
    "        COUNT(*) as total_entries\n",
    "    FROM soak_prep \n",
    "    GROUP BY User \n",
    "    ORDER BY total_chhola DESC\n",
    "\"\"\").fetchall()\n",
    "\n",
    "for row in user_totals:\n",
    "    print(f\"  {row[0]}: {row[1]}kg chhola, {row[2]}kg dal ({row[3]} entries)\")\n",
    "\n",
    "print(\"\\n📅 2. Daily totals (last 10 days):\")\n",
    "daily_totals = conn.execute(\"\"\"\n",
    "    SELECT \n",
    "        Date,\n",
    "        SUM(\"Chhola Soak (KG)\") as daily_chhola,\n",
    "        SUM(\"Dal Soak (KG)\") as daily_dal\n",
    "    FROM soak_prep \n",
    "    GROUP BY Date \n",
    "    ORDER BY Date DESC\n",
    "    LIMIT 10\n",
    "\"\"\").fetchall()\n",
    "\n",
    "for row in daily_totals:\n",
    "    print(f\"  {row[0]}: {row[1]}kg chhola, {row[2]}kg dal\")"
   ]
  },
  {
   "cell_type": "code",
   "execution_count": 5,
   "id": "af1544ef",
   "metadata": {},
   "outputs": [
    {
     "name": "stdout",
     "output_type": "stream",
     "text": [
      "�� === SHIFT ANALYSIS ===\n",
      "\n",
      "Night shift: 159 entries\n",
      "  Average: 13.5kg chhola, 4.9kg dal\n",
      "  Total: 2140.5kg chhola, 784.0999999999999kg dal\n",
      "\n",
      "Afternoon shift: 54 entries\n",
      "  Average: 4.0kg chhola, 0.2kg dal\n",
      "  Total: 218.7kg chhola, 12.0kg dal\n",
      "\n"
     ]
    }
   ],
   "source": [
    "print(\"�� === SHIFT ANALYSIS ===\\n\")\n",
    "\n",
    "shift_analysis = conn.execute(\"\"\"\n",
    "    SELECT \n",
    "        Shift,\n",
    "        COUNT(*) as entries,\n",
    "        AVG(\"Chhola Soak (KG)\") as avg_chhola,\n",
    "        AVG(\"Dal Soak (KG)\") as avg_dal,\n",
    "        SUM(\"Chhola Soak (KG)\") as total_chhola,\n",
    "        SUM(\"Dal Soak (KG)\") as total_dal\n",
    "    FROM soak_prep \n",
    "    WHERE Shift IS NOT NULL\n",
    "    GROUP BY Shift \n",
    "    ORDER BY total_chhola DESC\n",
    "\"\"\").fetchall()\n",
    "\n",
    "for row in shift_analysis:\n",
    "    print(f\"{row[0]} shift: {row[1]} entries\")\n",
    "    print(f\"  Average: {row[2]:.1f}kg chhola, {row[3]:.1f}kg dal\")\n",
    "    print(f\"  Total: {row[4]}kg chhola, {row[5]}kg dal\\n\")"
   ]
  },
  {
   "cell_type": "code",
   "execution_count": 7,
   "id": "c11f39c8",
   "metadata": {},
   "outputs": [
    {
     "name": "stdout",
     "output_type": "stream",
     "text": [
      "🔒 DuckDB connection closed.\n"
     ]
    }
   ],
   "source": [
    "# Close the connection\n",
    "conn.close()\n",
    "print(\"🔒 DuckDB connection closed.\")"
   ]
  },
  {
   "cell_type": "code",
   "execution_count": null,
   "id": "7a8a8b03",
   "metadata": {},
   "outputs": [],
   "source": []
  }
 ],
 "metadata": {
  "kernelspec": {
   "display_name": "Python 3 (ipykernel)",
   "language": "python",
   "name": "python3"
  },
  "language_info": {
   "codemirror_mode": {
    "name": "ipython",
    "version": 3
   },
   "file_extension": ".py",
   "mimetype": "text/x-python",
   "name": "python",
   "nbconvert_exporter": "python",
   "pygments_lexer": "ipython3",
   "version": "3.11.6"
  }
 },
 "nbformat": 4,
 "nbformat_minor": 5
}
